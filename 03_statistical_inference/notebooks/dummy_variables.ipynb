{
  "cells": [
    {
      "cell_type": "markdown",
      "metadata": {},
      "source": [
        "# ダミー変数とカテゴリ変数\n",
        "\n",
        "カテゴリ変数を線形回帰で扱うためのダミー変数の作成と解釈を学びます。\n"
      ]
    }
  ],
  "metadata": {
    "language_info": {
      "name": "python"
    }
  },
  "nbformat": 4,
  "nbformat_minor": 2
}
