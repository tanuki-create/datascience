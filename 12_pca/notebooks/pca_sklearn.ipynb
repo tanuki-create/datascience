{
  "cells": [
    {
      "cell_type": "markdown",
      "metadata": {},
      "source": [
        "# scikit-learnでのPCA\n",
        "\n",
        "このノートブックでは、scikit-learnのPCAクラスを使用した実装を学習します。\n"
      ]
    },
    {
      "cell_type": "code",
      "execution_count": null,
      "metadata": {},
      "outputs": [],
      "source": [
        "import numpy as np\n",
        "import matplotlib.pyplot as plt\n",
        "from sklearn.datasets import load_iris\n",
        "from sklearn.decomposition import PCA\n",
        "from sklearn.preprocessing import StandardScaler\n",
        "\n",
        "plt.rcParams['font.family'] = 'DejaVu Sans'\n",
        "plt.rcParams['figure.figsize'] = (12, 8)\n",
        "\n",
        "# データの準備\n",
        "iris = load_iris()\n",
        "X, y = iris.data, iris.target\n",
        "\n",
        "# データの標準化\n",
        "scaler = StandardScaler()\n",
        "X_scaled = scaler.fit_transform(X)\n",
        "\n",
        "# PCAの適用\n",
        "pca = PCA(n_components=2)\n",
        "X_pca = pca.fit_transform(X_scaled)\n",
        "\n",
        "# 可視化\n",
        "plt.figure(figsize=(15, 5))\n",
        "\n",
        "# 元データ\n",
        "plt.subplot(1, 3, 1)\n",
        "plt.scatter(X_scaled[:, 0], X_scaled[:, 1], c=y, cmap='viridis')\n",
        "plt.xlabel('Feature 1')\n",
        "plt.ylabel('Feature 2')\n",
        "plt.title('Original Data')\n",
        "\n",
        "# PCA後のデータ\n",
        "plt.subplot(1, 3, 2)\n",
        "plt.scatter(X_pca[:, 0], X_pca[:, 1], c=y, cmap='viridis')\n",
        "plt.xlabel('First Principal Component')\n",
        "plt.ylabel('Second Principal Component')\n",
        "plt.title('PCA Transformed Data')\n",
        "\n",
        "# 寄与率\n",
        "plt.subplot(1, 3, 3)\n",
        "plt.bar(range(1, 3), pca.explained_variance_ratio_)\n",
        "plt.xlabel('Principal Component')\n",
        "plt.ylabel('Explained Variance Ratio')\n",
        "plt.title('Explained Variance Ratio')\n",
        "\n",
        "plt.tight_layout()\n",
        "plt.show()\n",
        "\n",
        "print(\"=== scikit-learnでのPCA結果 ===\")\n",
        "print(f\"寄与率: {pca.explained_variance_ratio_}\")\n",
        "print(f\"累積寄与率: {np.cumsum(pca.explained_variance_ratio_)}\")\n",
        "print(f\"主成分: {pca.components_}\")\n"
      ]
    }
  ],
  "metadata": {
    "language_info": {
      "name": "python"
    }
  },
  "nbformat": 4,
  "nbformat_minor": 2
}
