{
  "cells": [
    {
      "cell_type": "markdown",
      "metadata": {},
      "source": [
        "# Leave-One-Out交差検証（LOOCV）\n",
        "\n",
        "各サンプルを1つずつテストデータとして使用するLOOCVの実装と解釈を学びます。\n"
      ]
    }
  ],
  "metadata": {
    "language_info": {
      "name": "python"
    }
  },
  "nbformat": 4,
  "nbformat_minor": 2
}
