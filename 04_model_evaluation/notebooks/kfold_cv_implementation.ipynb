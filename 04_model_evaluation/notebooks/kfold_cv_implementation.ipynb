{
  "cells": [
    {
      "cell_type": "markdown",
      "metadata": {},
      "source": [
        "# k-Fold交差検証\n",
        "\n",
        "データをk個の分割に分けてモデルを評価するk-Fold交差検証の実装と解釈を学びます。\n"
      ]
    }
  ],
  "metadata": {
    "language_info": {
      "name": "python"
    }
  },
  "nbformat": 4,
  "nbformat_minor": 2
}
