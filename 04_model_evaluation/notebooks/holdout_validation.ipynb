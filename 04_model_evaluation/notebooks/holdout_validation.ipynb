{
  "cells": [
    {
      "cell_type": "markdown",
      "metadata": {},
      "source": [
        "# Hold-out法によるモデル評価\n",
        "\n",
        "データを訓練用とテスト用に分割してモデルを評価するHold-out法の実装と解釈を学びます。\n"
      ]
    }
  ],
  "metadata": {
    "language_info": {
      "name": "python"
    }
  },
  "nbformat": 4,
  "nbformat_minor": 2
}
