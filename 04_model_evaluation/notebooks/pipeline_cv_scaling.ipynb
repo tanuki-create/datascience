{
  "cells": [
    {
      "cell_type": "markdown",
      "metadata": {},
      "source": [
        "# パイプラインと交差検証\n",
        "\n",
        "データ前処理からモデル評価までを一連の流れとして管理するパイプラインの実装を学びます。\n"
      ]
    }
  ],
  "metadata": {
    "language_info": {
      "name": "python"
    }
  },
  "nbformat": 4,
  "nbformat_minor": 2
}
