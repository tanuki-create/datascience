{
  "cells": [
    {
      "cell_type": "markdown",
      "metadata": {},
      "source": [
        "# 様々なkの比較\n",
        "\n",
        "kNN回帰における異なるk値の影響を比較し、最適なkの選択方法を学びます。\n"
      ]
    }
  ],
  "metadata": {
    "language_info": {
      "name": "python"
    }
  },
  "nbformat": 4,
  "nbformat_minor": 2
}
