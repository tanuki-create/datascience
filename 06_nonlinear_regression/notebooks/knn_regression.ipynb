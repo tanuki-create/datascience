{
  "cells": [
    {
      "cell_type": "markdown",
      "metadata": {},
      "source": [
        "# k近傍法（kNN）回帰\n",
        "\n",
        "距離に基づいて近傍のk個のサンプルから予測するkNN回帰の実装と解釈を学びます。\n"
      ]
    }
  ],
  "metadata": {
    "language_info": {
      "name": "python"
    }
  },
  "nbformat": 4,
  "nbformat_minor": 2
}
