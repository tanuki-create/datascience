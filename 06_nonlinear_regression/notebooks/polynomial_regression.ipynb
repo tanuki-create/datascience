{
  "cells": [
    {
      "cell_type": "markdown",
      "metadata": {},
      "source": [
        "# 多項式回帰\n",
        "\n",
        "多項式特徴量を使用した非線形回帰の実装と解釈を学びます。\n"
      ]
    }
  ],
  "metadata": {
    "language_info": {
      "name": "python"
    }
  },
  "nbformat": 4,
  "nbformat_minor": 2
}
