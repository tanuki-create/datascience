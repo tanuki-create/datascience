{
  "cells": [
    {
      "cell_type": "markdown",
      "metadata": {},
      "source": [
        "# 多項式特徴量\n",
        "\n",
        "既存の特徴量から高次の項を生成する多項式特徴量の作成と解釈を学びます。\n"
      ]
    }
  ],
  "metadata": {
    "language_info": {
      "name": "python"
    }
  },
  "nbformat": 4,
  "nbformat_minor": 2
}
