{
  "cells": [
    {
      "cell_type": "markdown",
      "metadata": {},
      "source": [
        "# 多クラス分類におけるROC/AUC\n",
        "\n",
        "このノートブックでは、多クラス分類でのROC曲線とAUCの計算方法を学習します。\n"
      ]
    },
    {
      "cell_type": "code",
      "execution_count": null,
      "metadata": {},
      "outputs": [],
      "source": [
        "import numpy as np\n",
        "import matplotlib.pyplot as plt\n",
        "from sklearn.datasets import make_classification\n",
        "from sklearn.model_selection import train_test_split\n",
        "from sklearn.preprocessing import StandardScaler, label_binarize\n",
        "from sklearn.linear_model import LogisticRegression\n",
        "from sklearn.metrics import roc_curve, auc, roc_auc_score\n",
        "\n",
        "plt.rcParams['font.family'] = 'DejaVu Sans'\n",
        "plt.rcParams['figure.figsize'] = (12, 8)\n",
        "\n",
        "# 多クラス分類用データセット\n",
        "X, y = make_classification(n_samples=1000, n_features=10, n_informative=8, n_classes=3, random_state=42)\n",
        "X_train, X_test, y_train, y_test = train_test_split(X, y, test_size=0.2, random_state=42)\n",
        "\n",
        "scaler = StandardScaler()\n",
        "X_train_scaled = scaler.fit_transform(X_train)\n",
        "X_test_scaled = scaler.transform(X_test)\n",
        "\n",
        "# モデルの訓練\n",
        "model = LogisticRegression(multi_class='multinomial', random_state=42, max_iter=1000)\n",
        "model.fit(X_train_scaled, y_train)\n",
        "y_pred_proba = model.predict_proba(X_test_scaled)\n",
        "\n",
        "# ラベルの二値化\n",
        "y_test_binarized = label_binarize(y_test, classes=[0, 1, 2])\n",
        "n_classes = y_test_binarized.shape[1]\n",
        "\n",
        "# 各クラスのROC曲線を描画\n",
        "plt.figure(figsize=(12, 8))\n",
        "\n",
        "for i in range(n_classes):\n",
        "    fpr, tpr, _ = roc_curve(y_test_binarized[:, i], y_pred_proba[:, i])\n",
        "    roc_auc = auc(fpr, tpr)\n",
        "    plt.plot(fpr, tpr, lw=2, label=f'Class {i} (AUC = {roc_auc:.2f})')\n",
        "\n",
        "plt.plot([0, 1], [0, 1], 'k--', lw=2, label='Random')\n",
        "plt.xlim([0.0, 1.0])\n",
        "plt.ylim([0.0, 1.05])\n",
        "plt.xlabel('False Positive Rate')\n",
        "plt.ylabel('True Positive Rate')\n",
        "plt.title('Multi-class ROC Curves (One-vs-Rest)')\n",
        "plt.legend(loc='lower right')\n",
        "plt.grid(True, alpha=0.3)\n",
        "plt.show()\n",
        "\n",
        "# Macro/Micro平均AUC\n",
        "auc_macro = roc_auc_score(y_test_binarized, y_pred_proba, average='macro')\n",
        "auc_micro = roc_auc_score(y_test_binarized, y_pred_proba, average='micro')\n",
        "\n",
        "print('=== 多クラス分類でのAUC ===')\n",
        "print(f'Macro-average AUC: {auc_macro:.4f}')\n",
        "print(f'Micro-average AUC: {auc_micro:.4f}')\n"
      ]
    }
  ],
  "metadata": {
    "language_info": {
      "name": "python"
    }
  },
  "nbformat": 4,
  "nbformat_minor": 2
}
