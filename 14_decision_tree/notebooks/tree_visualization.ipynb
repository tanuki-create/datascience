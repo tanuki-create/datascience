{
  "cells": [
    {
      "cell_type": "markdown",
      "metadata": {},
      "source": [
        "# 決定木の可視化\n",
        "\n",
        "このノートブックでは、決定木の可視化と解釈を学習します。\n"
      ]
    },
    {
      "cell_type": "code",
      "execution_count": null,
      "metadata": {},
      "outputs": [],
      "source": [
        "import numpy as np\n",
        "import matplotlib.pyplot as plt\n",
        "from sklearn.datasets import load_iris\n",
        "from sklearn.tree import DecisionTreeClassifier, plot_tree, export_text\n",
        "from sklearn.model_selection import train_test_split\n",
        "from sklearn.metrics import accuracy_score\n",
        "\n",
        "plt.rcParams['font.family'] = 'DejaVu Sans'\n",
        "plt.rcParams['figure.figsize'] = (12, 8)\n",
        "\n",
        "# データの準備\n",
        "iris = load_iris()\n",
        "X, y = iris.data, iris.target\n",
        "X_train, X_test, y_train, y_test = train_test_split(X, y, test_size=0.2, random_state=42)\n",
        "\n",
        "# 決定木の訓練\n",
        "tree = DecisionTreeClassifier(max_depth=3, random_state=42)\n",
        "tree.fit(X_train, y_train)\n",
        "\n",
        "# 決定木の可視化\n",
        "plt.figure(figsize=(15, 10))\n",
        "plot_tree(tree, feature_names=iris.feature_names, class_names=iris.target_names, filled=True, rounded=True)\n",
        "plt.title('Decision Tree Visualization')\n",
        "plt.show()\n",
        "\n",
        "# テキスト形式での表示\n",
        "tree_text = export_text(tree, feature_names=iris.feature_names)\n",
        "print(\"=== 決定木のテキスト表現 ===\")\n",
        "print(tree_text)\n",
        "\n",
        "# 異なる深さでの決定木の比較\n",
        "depths = [1, 2, 3, 4, 5]\n",
        "fig, axes = plt.subplots(2, 3, figsize=(18, 12))\n",
        "axes = axes.flatten()\n",
        "\n",
        "for i, depth in enumerate(depths):\n",
        "    tree_depth = DecisionTreeClassifier(max_depth=depth, random_state=42)\n",
        "    tree_depth.fit(X_train, y_train)\n",
        "    y_pred = tree_depth.predict(X_test)\n",
        "    accuracy = accuracy_score(y_test, y_pred)\n",
        "    \n",
        "    plot_tree(tree_depth, feature_names=iris.feature_names, class_names=iris.target_names, \n",
        "              filled=True, rounded=True, ax=axes[i])\n",
        "    axes[i].set_title(f'Depth: {depth}, Accuracy: {accuracy:.3f}')\n",
        "\n",
        "# 最後のサブプロットを非表示\n",
        "axes[5].set_visible(False)\n",
        "\n",
        "plt.tight_layout()\n",
        "plt.show()\n",
        "\n",
        "print(\"=== 異なる深さでの性能 ===\")\n",
        "for depth in depths:\n",
        "    tree_depth = DecisionTreeClassifier(max_depth=depth, random_state=42)\n",
        "    tree_depth.fit(X_train, y_train)\n",
        "    y_pred = tree_depth.predict(X_test)\n",
        "    accuracy = accuracy_score(y_test, y_pred)\n",
        "    print(f\"深さ {depth}: 精度 {accuracy:.4f}\")\n"
      ]
    }
  ],
  "metadata": {
    "language_info": {
      "name": "python"
    }
  },
  "nbformat": 4,
  "nbformat_minor": 2
}
