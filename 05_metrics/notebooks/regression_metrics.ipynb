{
  "cells": [
    {
      "cell_type": "markdown",
      "metadata": {},
      "source": [
        "# 回帰評価指標\n",
        "\n",
        "回帰モデルの性能を評価するための様々な指標の計算と解釈を学びます。\n"
      ]
    }
  ],
  "metadata": {
    "language_info": {
      "name": "python"
    }
  },
  "nbformat": 4,
  "nbformat_minor": 2
}
